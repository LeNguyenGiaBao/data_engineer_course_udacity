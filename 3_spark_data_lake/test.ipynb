{
 "cells": [
  {
   "cell_type": "code",
   "execution_count": 1,
   "metadata": {
    "editable": true
   },
   "outputs": [],
   "source": [
    "import configparser\n",
    "from datetime import datetime\n",
    "import os\n",
    "import glob \n",
    "from pyspark.sql import SparkSession\n",
    "from pyspark.sql.functions import udf, col\n",
    "from pyspark.sql.functions import year, month, dayofmonth, hour, weekofyear, date_format, monotonically_increasing_id\n",
    "from pyspark.sql.types import StructType, StringType, IntegerType, DoubleType, FloatType, LongType\n"
   ]
  },
  {
   "cell_type": "code",
   "execution_count": 2,
   "metadata": {
    "editable": true
   },
   "outputs": [],
   "source": [
    "spark = SparkSession.builder.getOrCreate()"
   ]
  },
  {
   "cell_type": "code",
   "execution_count": 3,
   "metadata": {
    "editable": true
   },
   "outputs": [],
   "source": [
    "def process_song_data(spark, input_data, output_data):\n",
    "    '''\n",
    "        This function process song data from file to table and save it to s3\n",
    "    '''\n",
    "    # get filepath to song data file\n",
    "    song_data = glob.glob(input_data + 'song_data/*/*/*/*.json')\n",
    "    \n",
    "    # data structure \n",
    "    schema = StructType() \\\n",
    "      .add(\"artist_id\",StringType(),False) \\\n",
    "      .add(\"artist_latitude\",FloatType(),True) \\\n",
    "      .add(\"artist_location\",StringType(),True) \\\n",
    "      .add(\"artist_longitude\",FloatType(),True) \\\n",
    "      .add(\"artist_name\",StringType(),True) \\\n",
    "      .add(\"duration\",FloatType(),True) \\\n",
    "      .add(\"num_songs\",IntegerType(),True) \\\n",
    "      .add(\"song_id\",StringType(),False) \\\n",
    "      .add(\"title\",StringType(),True) \\\n",
    "      .add(\"year\",IntegerType(),True) \n",
    "\n",
    "    # read song data file\n",
    "    df = spark.read.schema(schema).json(song_data)\n",
    "\n",
    "    # extract columns to create songs table\n",
    "    song_columns = ['song_id', 'title', 'artist_id', 'year', 'duration']\n",
    "    songs_table = df.selectExpr(*song_columns).dropDuplicates(subset=['song_id'])\n",
    "    \n",
    "    # write songs table to parquet files partitioned by year and artist\n",
    "    songs_table.write.partitionBy(\"year\", \"artist_id\").parquet(output_data+'song_table')\n",
    "\n",
    "    # extract columns to create artists table\n",
    "    artist_columns = ['artist_id', 'artist_name as name', 'artist_location as location', 'artist_latitude as latitude', 'artist_longitude as longitude']\n",
    "    artists_table = df.selectExpr(*artist_columns).dropDuplicates(subset=['artist_id'])\n",
    "    \n",
    "    # write artists table to parquet files\n",
    "    artists_table.write.parquet(output_data+'artist_table')"
   ]
  },
  {
   "cell_type": "code",
   "execution_count": 15,
   "metadata": {
    "editable": true
   },
   "outputs": [],
   "source": [
    "process_song_data(spark, '/home/workspace/data/', '/home/workspace/result4/')"
   ]
  },
  {
   "cell_type": "code",
   "execution_count": 16,
   "metadata": {
    "editable": true
   },
   "outputs": [],
   "source": [
    "def process_log_data(spark, input_data, output_data):\n",
    "    '''\n",
    "        This function process log data from file to table and save it to s3\n",
    "    '''\n",
    "    # get filepath to log data file\n",
    "    log_data = glob.glob(input_data + 'log_data/*.json')\n",
    "\n",
    "    # data structure \n",
    "    schema = StructType() \\\n",
    "      .add(\"artist\",StringType(),True) \\\n",
    "      .add(\"auth\",StringType(),True) \\\n",
    "      .add(\"firstName\",StringType(),True) \\\n",
    "      .add(\"gender\",StringType(),True) \\\n",
    "      .add(\"itemInSession\",IntegerType(),True) \\\n",
    "      .add(\"lastName\",StringType(),True) \\\n",
    "      .add(\"length\",FloatType(),True) \\\n",
    "      .add(\"level\",StringType(),True) \\\n",
    "      .add(\"location\",StringType(),True) \\\n",
    "      .add(\"method\",StringType(),True) \\\n",
    "      .add(\"page\",StringType(),True) \\\n",
    "      .add(\"registration\",StringType(),True) \\\n",
    "      .add(\"sessionId\",IntegerType(),True) \\\n",
    "      .add(\"song\",StringType(),True) \\\n",
    "      .add(\"status\",IntegerType(),True) \\\n",
    "      .add(\"ts\",LongType(),True) \\\n",
    "      .add(\"userAgent\",StringType(),True) \\\n",
    "      .add(\"userId\",StringType(),True) \n",
    "    \n",
    "    # read log data file\n",
    "    df = spark.read.schema(schema).json(log_data)\n",
    "    \n",
    "    # filter by actions for song plays\n",
    "    df = df.where(df.page=='NextSong')\n",
    "\n",
    "    # extract columns for users table    \n",
    "    user_columns = ['userId as user_id', 'firstName as first_name', 'lastName as last_name', 'gender', 'level']\n",
    "    users_table = df.selectExpr(*user_columns).dropDuplicates(subset=['user_id'])\n",
    "    \n",
    "    # write users table to parquet files\n",
    "    users_table.write.parquet(output_data+'users_table')\n",
    "\n",
    "    # create timestamp column from original timestamp column\n",
    "    # get_timestamp = udf(lambda x: x//1000)\n",
    "    df = df.withColumn(\"timestamp\", (col(\"ts\")/1000).cast(\"timestamp\"))\n",
    "    \n",
    "    # create datetime column from original timestamp column\n",
    "    df = df.withColumn(\"year\", year(col(\"timestamp\")))\\\n",
    "        .withColumn(\"month\", month(col(\"timestamp\")))\\\n",
    "        .withColumn(\"dayofmonth\", dayofmonth(col(\"timestamp\")))\\\n",
    "        .withColumn(\"hour\", hour(col(\"timestamp\")))\\\n",
    "        .withColumn(\"weekofyear\", weekofyear(col(\"timestamp\")))\\\n",
    "        .withColumn(\"weekday\", date_format(col(\"timestamp\"), 'u'))\n",
    "    \n",
    "    # extract columns to create time table\n",
    "    time_column = ['ts', 'hour', 'dayofmonth as day', 'weekofyear as week', 'month', 'year', 'weekday']\n",
    "    time_table = df.selectExpr(*time_column).dropDuplicates(subset=['ts'])\n",
    "    \n",
    "    # write time table to parquet files partitioned by year and month\n",
    "    time_table.write.partitionBy(\"year\", \"month\").parquet(output_data+'time_table')\n",
    "\n",
    "    # read in song data to use for songplays table\n",
    "    song_df = spark.read.parquet(output_data+\"song_table\").select(['song_id', 'title', 'artist_id', 'duration'])\n",
    "    \n",
    "    # read in artist data to use for songplays table\n",
    "    artist_df = spark.read.parquet(output_data+\"artist_table\").select(['name'])\n",
    "\n",
    "    # extract columns from joined song and log datasets to create songplays table \n",
    "    songplays_df = df.select(['ts', 'userId', 'level', 'sessionId', 'location', 'userAgent', 'song', 'length', 'artist']) \\\n",
    "                    .join(song_df, (song_df.title == df.song) & (song_df.duration == df.length)) \\\n",
    "                    .join(artist_df, artist_df.name == df.artist)\n",
    "    \n",
    "    songplays_column = ['ts as start_time', 'userId as user_id', 'level', 'song_id', 'artist_id', 'sessionId as session_id', 'location', 'userAgent as user_agent']\n",
    "    songplays_table = songplays_df.selectExpr(*songplays_column)\n",
    "    songplays_table = songplays_table.withColumn('songplay_id', monotonically_increasing_id()) \\\n",
    "                    .withColumn('year', year((col(\"start_time\")/1000).cast(\"timestamp\"))) \\\n",
    "                    .withColumn('month', month((col(\"start_time\")/1000).cast(\"timestamp\")))\n",
    "    songplays_table.show()\n",
    "    # write songplays table to parquet files partitioned by year and month\n",
    "    songplays_table.write.partitionBy(\"year\", \"month\").parquet(output_data+'songplays_table')\n"
   ]
  },
  {
   "cell_type": "code",
   "execution_count": 17,
   "metadata": {
    "editable": true
   },
   "outputs": [
    {
     "name": "stdout",
     "output_type": "stream",
     "text": [
      "+-------------+-------+-----+------------------+------------------+----------+--------------------+--------------------+-----------+----+-----+\n",
      "|   start_time|user_id|level|           song_id|         artist_id|session_id|            location|          user_agent|songplay_id|year|month|\n",
      "+-------------+-------+-----+------------------+------------------+----------+--------------------+--------------------+-----------+----+-----+\n",
      "|1542837407796|     15| paid|SOZCTXZ12AB0182364|AR5KOSW1187FB35FF4|       818|Chicago-Napervill...|\"Mozilla/5.0 (X11...|          0|2018|   11|\n",
      "+-------------+-------+-----+------------------+------------------+----------+--------------------+--------------------+-----------+----+-----+\n",
      "\n"
     ]
    }
   ],
   "source": [
    "process_log_data(spark, '/home/workspace/data/', '/home/workspace/result4/')"
   ]
  },
  {
   "cell_type": "code",
   "execution_count": null,
   "metadata": {
    "editable": true
   },
   "outputs": [],
   "source": []
  }
 ],
 "metadata": {
  "kernelspec": {
   "display_name": "Python 3",
   "language": "python",
   "name": "python3"
  },
  "language_info": {
   "codemirror_mode": {
    "name": "ipython",
    "version": 3
   },
   "file_extension": ".py",
   "mimetype": "text/x-python",
   "name": "python",
   "nbconvert_exporter": "python",
   "pygments_lexer": "ipython3",
   "version": "3.6.3"
  }
 },
 "nbformat": 4,
 "nbformat_minor": 4
}
